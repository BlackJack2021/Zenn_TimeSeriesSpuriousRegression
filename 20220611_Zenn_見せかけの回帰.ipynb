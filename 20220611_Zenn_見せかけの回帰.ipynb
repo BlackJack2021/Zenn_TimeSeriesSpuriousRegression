{
  "nbformat": 4,
  "nbformat_minor": 0,
  "metadata": {
    "colab": {
      "name": "20220611_Zenn_見せかけの回帰.ipynb",
      "provenance": [],
      "collapsed_sections": [],
      "authorship_tag": "ABX9TyMNKSyK0wu70qcmK1Cgnrf6",
      "include_colab_link": true
    },
    "kernelspec": {
      "name": "python3",
      "display_name": "Python 3"
    },
    "language_info": {
      "name": "python"
    }
  },
  "cells": [
    {
      "cell_type": "markdown",
      "metadata": {
        "id": "view-in-github",
        "colab_type": "text"
      },
      "source": [
        "<a href=\"https://colab.research.google.com/github/BlackJack2021/Zenn_TimeSeriesSpuriousRegression/blob/main/20220611_Zenn_%E8%A6%8B%E3%81%9B%E3%81%8B%E3%81%91%E3%81%AE%E5%9B%9E%E5%B8%B0.ipynb\" target=\"_parent\"><img src=\"https://colab.research.google.com/assets/colab-badge.svg\" alt=\"Open In Colab\"/></a>"
      ]
    },
    {
      "cell_type": "code",
      "execution_count": null,
      "metadata": {
        "id": "RmaqHXXvBSdd",
        "colab": {
          "base_uri": "https://localhost:8080/"
        },
        "outputId": "629963c5-a0ae-4bdb-81cd-fbbeb10918df"
      },
      "outputs": [
        {
          "output_type": "stream",
          "name": "stderr",
          "text": [
            "/usr/local/lib/python3.7/dist-packages/statsmodels/tools/_testing.py:19: FutureWarning: pandas.util.testing is deprecated. Use the functions in the public API at pandas.testing instead.\n",
            "  import pandas.util.testing as tm\n"
          ]
        }
      ],
      "source": [
        "import numpy as np\n",
        "import pandas as pd\n",
        "import matplotlib.pyplot as plt\n",
        "import seaborn as sns\n",
        "import statsmodels.api as sm"
      ]
    },
    {
      "cell_type": "markdown",
      "source": [
        "## シミュレーション1. 単なる正規分布乱数の回帰"
      ],
      "metadata": {
        "id": "vT-UxkP502en"
      }
    },
    {
      "cell_type": "code",
      "source": [
        "# サンプル数とシード値を指定\n",
        "num_of_sample = 1000\n",
        "np.random.seed(8888)\n",
        "\n",
        "# 標準正規分布（もちろん独立）に従って u, v の２系列を作成\n",
        "u = np.random.randn(num_of_sample)\n",
        "v = np.random.randn(num_of_sample)\n",
        "\n",
        "# 回帰分析の定数項を推定するため準備\n",
        "u_add_const = sm.add_constant(u)\n",
        "\n",
        "# 線形回帰の推定と推定結果の出力\n",
        "linear_model = sm.OLS(endog=v, exog=u_add_const)\n",
        "fitted_linear_model = linear_model.fit()\n",
        "print(fitted_linear_model.summary())"
      ],
      "metadata": {
        "colab": {
          "base_uri": "https://localhost:8080/"
        },
        "id": "bbpbgri9z6Lv",
        "outputId": "61dddefa-d4ef-4fc4-ddb0-5a26654eca49"
      },
      "execution_count": null,
      "outputs": [
        {
          "output_type": "stream",
          "name": "stdout",
          "text": [
            "                            OLS Regression Results                            \n",
            "==============================================================================\n",
            "Dep. Variable:                      y   R-squared:                       0.000\n",
            "Model:                            OLS   Adj. R-squared:                 -0.001\n",
            "Method:                 Least Squares   F-statistic:                  0.001761\n",
            "Date:                Tue, 14 Jun 2022   Prob (F-statistic):              0.967\n",
            "Time:                        12:01:43   Log-Likelihood:                -1389.6\n",
            "No. Observations:                1000   AIC:                             2783.\n",
            "Df Residuals:                     998   BIC:                             2793.\n",
            "Df Model:                           1                                         \n",
            "Covariance Type:            nonrobust                                         \n",
            "==============================================================================\n",
            "                 coef    std err          t      P>|t|      [0.025      0.975]\n",
            "------------------------------------------------------------------------------\n",
            "const         -0.0210      0.031     -0.683      0.495      -0.081       0.039\n",
            "x1            -0.0013      0.030     -0.042      0.967      -0.061       0.058\n",
            "==============================================================================\n",
            "Omnibus:                        0.680   Durbin-Watson:                   2.005\n",
            "Prob(Omnibus):                  0.712   Jarque-Bera (JB):                0.755\n",
            "Skew:                          -0.014   Prob(JB):                        0.686\n",
            "Kurtosis:                       2.868   Cond. No.                         1.02\n",
            "==============================================================================\n",
            "\n",
            "Warnings:\n",
            "[1] Standard Errors assume that the covariance matrix of the errors is correctly specified.\n"
          ]
        }
      ]
    },
    {
      "cell_type": "markdown",
      "source": [
        "## シミュレーション2. ランダムウォーク系列の回帰分析"
      ],
      "metadata": {
        "id": "BILeaSj52pFK"
      }
    },
    {
      "cell_type": "code",
      "source": [
        "# ランダムウォークに従う系列に変更(これでランダムウォークになる理由は以下で説明)\n",
        "x = np.cumsum(u)\n",
        "y = np.cumsum(v)\n",
        "\n",
        "# 回帰分析の定数項を推定するための準備\n",
        "x_add_const = sm.add_constant(x)\n",
        "\n",
        "# 線形回帰の推定と推定結果の出力\n",
        "rw_linear_model = sm.OLS(endog=y, exog=x_add_const)\n",
        "rw_fitted_linear_model = rw_linear_model.fit()\n",
        "print(rw_fitted_linear_model.summary())"
      ],
      "metadata": {
        "colab": {
          "base_uri": "https://localhost:8080/"
        },
        "id": "k7prOoYb1EjW",
        "outputId": "ba006dfb-4cc9-4803-ee39-231d5296cd08"
      },
      "execution_count": null,
      "outputs": [
        {
          "output_type": "stream",
          "name": "stdout",
          "text": [
            "                            OLS Regression Results                            \n",
            "==============================================================================\n",
            "Dep. Variable:                      y   R-squared:                       0.361\n",
            "Model:                            OLS   Adj. R-squared:                  0.360\n",
            "Method:                 Least Squares   F-statistic:                     563.7\n",
            "Date:                Tue, 14 Jun 2022   Prob (F-statistic):           3.78e-99\n",
            "Time:                        12:01:57   Log-Likelihood:                -3233.7\n",
            "No. Observations:                1000   AIC:                             6471.\n",
            "Df Residuals:                     998   BIC:                             6481.\n",
            "Df Model:                           1                                         \n",
            "Covariance Type:            nonrobust                                         \n",
            "==============================================================================\n",
            "                 coef    std err          t      P>|t|      [0.025      0.975]\n",
            "------------------------------------------------------------------------------\n",
            "const        -11.5611      0.272    -42.555      0.000     -12.094     -11.028\n",
            "x1             0.3589      0.015     23.743      0.000       0.329       0.389\n",
            "==============================================================================\n",
            "Omnibus:                       72.825   Durbin-Watson:                   0.029\n",
            "Prob(Omnibus):                  0.000   Jarque-Bera (JB):               88.032\n",
            "Skew:                           0.726   Prob(JB):                     7.66e-20\n",
            "Kurtosis:                       3.051   Cond. No.                         25.2\n",
            "==============================================================================\n",
            "\n",
            "Warnings:\n",
            "[1] Standard Errors assume that the covariance matrix of the errors is correctly specified.\n"
          ]
        }
      ]
    },
    {
      "cell_type": "markdown",
      "source": [
        "## 納得できない人のために1000回シミュレーション"
      ],
      "metadata": {
        "id": "WJfOh3ij243L"
      }
    },
    {
      "cell_type": "code",
      "source": [
        "num_of_simulation = 1000\n",
        "\n",
        "# 推定係数を格納するための箱\n",
        "estimated_coefficients = []\n",
        "p_values = []\n",
        "\n",
        "for i in np.arange(num_of_simulation):\n",
        "\n",
        "    # 乱数を変更する\n",
        "    np.random.seed(i)\n",
        "    # 標準正規分布（もちろん独立）に従って u, v の２系列を作成\n",
        "    u = np.random.randn(num_of_sample)\n",
        "    v = np.random.randn(num_of_sample)\n",
        "    # ランダムウォークに従う系列に変更\n",
        "    x = np.cumsum(u)\n",
        "    y = np.cumsum(v)\n",
        "\n",
        "    # 回帰分析のための定数項を準備\n",
        "    x_add_const = sm.add_constant(x)\n",
        "\n",
        "    # 線形回帰の推定と推定結果の出力\n",
        "    rw_linear_model = sm.OLS(endog=y, exog=x_add_const)\n",
        "    rw_fitted_linear_model = rw_linear_model.fit()\n",
        "\n",
        "    # 推定係数とp値を取得する\n",
        "    estimated_coefficient = rw_fitted_linear_model.params[1]\n",
        "    p_value = rw_fitted_linear_model.pvalues[1]\n",
        "    \n",
        "    # それぞれを格納する\n",
        "    estimated_coefficients.append(estimated_coefficient)\n",
        "    p_values.append(p_value)"
      ],
      "metadata": {
        "id": "cVsI9QG92Rut"
      },
      "execution_count": null,
      "outputs": []
    },
    {
      "cell_type": "code",
      "source": [
        "# p値が5%未満だった（有意水準5%で帰無仮説が棄却されるケース）割合を計算\n",
        "null_hypothesis_testing_results = [p_value < 0.05 for p_value in p_values]\n",
        "print(np.mean(null_hypothesis_testing_results))\n",
        "\n",
        "# なんと91.9%の確率で有意な推定係数が得られる。（つまり、1000回中919回で有意水準5%で係数が有意だったことになる。）"
      ],
      "metadata": {
        "colab": {
          "base_uri": "https://localhost:8080/"
        },
        "id": "NoGyYiIb4kNP",
        "outputId": "552748b0-65b2-4938-ad7d-1e57429116a9"
      },
      "execution_count": null,
      "outputs": [
        {
          "output_type": "stream",
          "name": "stdout",
          "text": [
            "0.919\n"
          ]
        }
      ]
    },
    {
      "cell_type": "code",
      "source": [
        "# 年のため推定係数を確認\n",
        "fig, ax = plt.subplots(figsize=(15,6))\n",
        "sns.histplot(\n",
        "    x = estimated_coefficients,\n",
        "    ax = ax,\n",
        "    kde = False\n",
        ")\n",
        "ax.grid()\n",
        "plt.show()"
      ],
      "metadata": {
        "colab": {
          "base_uri": "https://localhost:8080/",
          "height": 374
        },
        "id": "foRO_baB5Rvm",
        "outputId": "7e78a108-d43d-4f71-dec1-478ffdfa5d88"
      },
      "execution_count": null,
      "outputs": [
        {
          "output_type": "display_data",
          "data": {
            "text/plain": [
              "<Figure size 1080x432 with 1 Axes>"
            ],
            "image/png": "[encoded data removed]"
          },
          "metadata": {
            "needs_background": "light"
          }
        }
      ]
    }
  ]
}